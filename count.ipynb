{
 "cells": [
  {
   "cell_type": "code",
   "execution_count": null,
   "id": "2b5aa9ed",
   "metadata": {},
   "outputs": [],
   "source": [
    "import time"
   ]
  },
  {
   "cell_type": "code",
   "execution_count": 8,
   "id": "20db11b0",
   "metadata": {},
   "outputs": [
    {
     "name": "stdout",
     "output_type": "stream",
     "text": [
      "GIVE ME THE TIME IN SECONDS:\n",
      "7\n",
      "FIRE IN THE HOLE\n"
     ]
    }
   ],
   "source": [
    "def count(times):\n",
    "    while times:\n",
    "        minets, seconds = divmod(times, 60)\n",
    "        timer = '{:02d}:{:02d}'.format(minets, seconds)\n",
    "        print(timer, end=\"\\r\")\n",
    "        time.sleep(1)\n",
    "        times -= 1\n",
    "    print('FIRE IN THE HOLE')\n",
    "times = input(\"GIVE ME THE TIME IN SECONDS:\\n\")\n",
    "count(int(times))"
   ]
  }
 ],
 "metadata": {
  "kernelspec": {
   "display_name": "Python 3 (ipykernel)",
   "language": "python",
   "name": "python3"
  },
  "language_info": {
   "codemirror_mode": {
    "name": "ipython",
    "version": 3
   },
   "file_extension": ".py",
   "mimetype": "text/x-python",
   "name": "python",
   "nbconvert_exporter": "python",
   "pygments_lexer": "ipython3",
   "version": "3.9.12"
  }
 },
 "nbformat": 4,
 "nbformat_minor": 5
}
